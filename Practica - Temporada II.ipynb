{
 "cells": [
  {
   "metadata": {},
   "cell_type": "markdown",
   "source": [
    "## Practica - Temporada II\n",
    "\n",
    "#### Nombre: Jahiron Mateo Guzman\n",
    "#### Materia: Procesamiento de imagenes\n",
    "\n",
    "En esta tarea, aplicarás conceptos básicos de procesamiento de imágenes utilizando OpenCV en Python. Aprenderás a dibujar figuras geométricas, agregar texto y realizar manipulaciones básicas en imágenes.\n"
   ],
   "id": "dcd87bef0b3f201"
  },
  {
   "metadata": {},
   "cell_type": "markdown",
   "source": [
    "# Parte 1: Creación y Dibujo en una Imagen\n",
    "\n",
    "Instrucciones\n",
    "\n",
    "1. Crear una imagen en blanco\n",
    "\n",
    "• Genera una imagen en blanco con dimensiones de 500x500 píxeles y color de fondo negro.\n",
    "\n",
    "2. Dibujar figuras geométricas\n",
    "\n",
    "• Dibuja una línea de color azul que vaya desde la esquina superior izquierda hasta la esquina inferior derecha.\n",
    "\n",
    "• Agrega un rectángulo de color verde en el centro de la imagen.\n",
    "\n",
    "• Dibuja un círculo rojo dentro del rectángulo.\n",
    "\n",
    "3. Agregar texto a la imagen\n",
    "\n",
    "• Escribe tu nombre en la imagen utilizando una fuente legible y color amarillo.\n",
    "\n",
    "4. Manipulación de imágenes\n",
    "\n",
    "• Convierte la imagen a escala de grises.\n",
    "\n",
    "• Redimensiona la imagen al doble de su tamaño original.\n",
    "\n",
    "• Rota la imagen 45 grados.\n",
    "\n"
   ],
   "id": "400b5f0019702b96"
  },
  {
   "metadata": {
    "ExecuteTime": {
     "end_time": "2025-03-09T18:41:46.449309Z",
     "start_time": "2025-03-09T18:41:46.226482Z"
    }
   },
   "cell_type": "code",
   "source": [
    "\n",
    "#Librerias necesarias:\n",
    "\n",
    "import numpy as np"
   ],
   "id": "3dbb370db7076aad",
   "outputs": [
    {
     "ename": "ModuleNotFoundError",
     "evalue": "No module named 'numpy'",
     "output_type": "error",
     "traceback": [
      "\u001B[1;31m---------------------------------------------------------------------------\u001B[0m",
      "\u001B[1;31mModuleNotFoundError\u001B[0m                       Traceback (most recent call last)",
      "Cell \u001B[1;32mIn[1], line 3\u001B[0m\n\u001B[0;32m      1\u001B[0m \u001B[38;5;66;03m#Librerias necesarias:\u001B[39;00m\n\u001B[1;32m----> 3\u001B[0m \u001B[38;5;28;01mimport\u001B[39;00m \u001B[38;5;21;01mnumpy\u001B[39;00m \u001B[38;5;28;01mas\u001B[39;00m \u001B[38;5;21;01mnp\u001B[39;00m\n",
      "\u001B[1;31mModuleNotFoundError\u001B[0m: No module named 'numpy'"
     ]
    }
   ],
   "execution_count": 1
  },
  {
   "metadata": {},
   "cell_type": "code",
   "outputs": [],
   "execution_count": null,
   "source": "# Creacion de imagen en blanco 1.",
   "id": "b248b7c2ab4a4107"
  },
  {
   "metadata": {},
   "cell_type": "code",
   "outputs": [],
   "execution_count": null,
   "source": "",
   "id": "2f0a1d866a12175a"
  },
  {
   "metadata": {},
   "cell_type": "code",
   "outputs": [],
   "execution_count": null,
   "source": "",
   "id": "c57d66f45e1b3ea1"
  },
  {
   "metadata": {},
   "cell_type": "code",
   "outputs": [],
   "execution_count": null,
   "source": "",
   "id": "347194e2480f0f14"
  },
  {
   "metadata": {
    "ExecuteTime": {
     "end_time": "2025-03-09T17:37:43.086619Z",
     "start_time": "2025-03-09T17:37:43.078108Z"
    }
   },
   "cell_type": "code",
   "source": "# Dibujar figuras geometricas 2.",
   "id": "193f3d0d7e3d8815",
   "outputs": [],
   "execution_count": 2
  },
  {
   "metadata": {},
   "cell_type": "code",
   "outputs": [],
   "execution_count": null,
   "source": "",
   "id": "b1dc6c0a9db24e43"
  },
  {
   "metadata": {},
   "cell_type": "code",
   "outputs": [],
   "execution_count": null,
   "source": "",
   "id": "41731ab47a989a60"
  },
  {
   "metadata": {},
   "cell_type": "code",
   "outputs": [],
   "execution_count": null,
   "source": "",
   "id": "b6ff7b49db3d0198"
  },
  {
   "metadata": {},
   "cell_type": "code",
   "outputs": [],
   "execution_count": null,
   "source": "",
   "id": "95396053902df77f"
  },
  {
   "metadata": {},
   "cell_type": "code",
   "outputs": [],
   "execution_count": null,
   "source": "",
   "id": "c68dc5c8a475b45d"
  }
 ],
 "metadata": {
  "kernelspec": {
   "display_name": "Python 3",
   "language": "python",
   "name": "python3"
  },
  "language_info": {
   "codemirror_mode": {
    "name": "ipython",
    "version": 2
   },
   "file_extension": ".py",
   "mimetype": "text/x-python",
   "name": "python",
   "nbconvert_exporter": "python",
   "pygments_lexer": "ipython2",
   "version": "2.7.6"
  }
 },
 "nbformat": 4,
 "nbformat_minor": 5
}
