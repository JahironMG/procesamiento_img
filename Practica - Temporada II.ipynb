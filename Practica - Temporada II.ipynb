{
 "cells": [
  {
   "metadata": {},
   "cell_type": "markdown",
   "source": [
    "## Practica - Temporada II\n",
    "\n",
    "#### Nombre: Jahiron Mateo Guzman\n",
    "#### Materia: Procesamiento de imagenes\n",
    "\n",
    "En esta tarea, aplicarás conceptos básicos de procesamiento de imágenes utilizando OpenCV en Python. Aprenderás a dibujar figuras geométricas, agregar texto y realizar manipulaciones básicas en imágenes.\n"
   ],
   "id": "dcd87bef0b3f201"
  },
  {
   "metadata": {},
   "cell_type": "markdown",
   "source": [
    "# Parte 1: Creación y Dibujo en una Imagen\n",
    "\n",
    "Instrucciones\n",
    "\n",
    "1. Crear una imagen en blanco\n",
    "\n",
    "• Genera una imagen en blanco con dimensiones de 500x500 píxeles y color de fondo negro.\n",
    "\n",
    "2. Dibujar figuras geométricas\n",
    "\n",
    "• Dibuja una línea de color azul que vaya desde la esquina superior izquierda hasta la esquina inferior derecha.\n",
    "\n",
    "• Agrega un rectángulo de color verde en el centro de la imagen.\n",
    "\n",
    "• Dibuja un círculo rojo dentro del rectángulo.\n",
    "\n",
    "3. Agregar texto a la imagen\n",
    "\n",
    "• Escribe tu nombre en la imagen utilizando una fuente legible y color amarillo.\n",
    "\n",
    "4. Manipulación de imágenes\n",
    "\n",
    "• Convierte la imagen a escala de grises.\n",
    "\n",
    "• Redimensiona la imagen al doble de su tamaño original.\n",
    "\n",
    "• Rota la imagen 45 grados.\n",
    "\n"
   ],
   "id": "400b5f0019702b96"
  },
  {
   "metadata": {
    "ExecuteTime": {
     "end_time": "2025-03-11T21:14:35.512474Z",
     "start_time": "2025-03-11T21:14:34.873807Z"
    }
   },
   "cell_type": "code",
   "source": [
    "\n",
    "#Librerias necesarias:\n",
    "\n",
    "import numpy as np\n",
    "import cv2 as cv\n",
    "import matplotlib.pyplot as plt"
   ],
   "id": "3dbb370db7076aad",
   "outputs": [],
   "execution_count": 1
  },
  {
   "metadata": {
    "ExecuteTime": {
     "end_time": "2025-03-11T21:16:17.045396Z",
     "start_time": "2025-03-11T21:16:10.093273Z"
    }
   },
   "cell_type": "code",
   "source": [
    "# Creacion de imagen en blanco 1.\n",
    "mi_recuadro =np.ones((500,500,3), np.uint8)\n",
    "\n",
    "cv.imwrite(\"Imagen_blanco.png\",mi_recuadro)\n",
    "\n",
    "cv.imshow(\"Recuadro\", mi_recuadro)\n",
    "cv.waitKey(0)\n"
   ],
   "id": "b248b7c2ab4a4107",
   "outputs": [
    {
     "data": {
      "text/plain": [
       "-1"
      ]
     },
     "execution_count": 2,
     "metadata": {},
     "output_type": "execute_result"
    }
   ],
   "execution_count": 2
  },
  {
   "metadata": {},
   "cell_type": "code",
   "source": [
    "# Dibujar figuras geometricas 2.\n",
    "\n",
    "mi_recuadro =np.ones((500,500,3), np.uint8)\n",
    "cv.line(mi_recuadro, (0,0),(500,500),(255,0,0),5)\n",
    "cv.rectangle(mi_recuadro,(110,200),(410,300),(0,255,0),3)\n",
    "cv.circle(mi_recuadro,(250,250),40,(0,0,225), 8)\n",
    "\n",
    "cv.imshow(\"Recuadro\", mi_recuadro)\n",
    "cv.waitKey(0)"
   ],
   "id": "2f0a1d866a12175a",
   "outputs": [],
   "execution_count": null
  },
  {
   "metadata": {},
   "cell_type": "code",
   "source": [
    "# Agregar tex a las imagenenes 3.\n",
    "mi_recuadro =np.ones((500,500,3), np.uint8) #Lienzo de trabajo\n",
    "cv.line(mi_recuadro, (0,0),(500,500),(255,0,0),5)\n",
    "cv.rectangle(mi_recuadro,(110,200),(410,300),(0,255,0),3)\n",
    "cv.circle(mi_recuadro,(250,250),40,(0,0,225), 8)\n",
    "font = cv.FONT_HERSHEY_PLAIN  #tipografia de letra\n",
    "cv.putText(mi_recuadro,\"Creado por Jahiron Mateo G.\", (50,400),font,1.3,(0,255,255),2,cv.LINE_AA)\n",
    "\n",
    "\n",
    "cv.imshow(\"Recuadro\", mi_recuadro)\n",
    "cv.waitKey(0)\n",
    "cv.destroyWindow()"
   ],
   "id": "c57d66f45e1b3ea1",
   "outputs": [],
   "execution_count": null
  },
  {
   "metadata": {},
   "cell_type": "code",
   "source": [
    "# Manipulacion de las imagenes 4.\n",
    "mi_recuadro =np.ones((500,500,3), np.uint8) #Lienzo de trabajo\n",
    "cv.line(mi_recuadro, (0,0),(500,500),(255,0,0),5)\n",
    "cv.rectangle(mi_recuadro,(110,200),(410,300),(0,255,0),3)\n",
    "cv.circle(mi_recuadro,(250,250),40,(0,0,225), 8)\n",
    "font = cv.FONT_HERSHEY_PLAIN  #tipografia de letra\n",
    "cv.putText(mi_recuadro,\"Creado por Jahiron Mateo G.\", (50,400),font,1.3,(0,255,255),2,cv.LINE_AA)\n",
    "\n",
    "gris = cv.cvtColor(mi_recuadro, cv.COLOR_BGR2GRAY)\n",
    "\n",
    "\n",
    "cv.imshow(\"Escala de grises\", gris)\n",
    "cv.waitKey()\n",
    "cv.destroyWindow()\n",
    "\n"
   ],
   "id": "347194e2480f0f14",
   "outputs": [],
   "execution_count": null
  },
  {
   "metadata": {},
   "cell_type": "code",
   "source": [
    "#Expansion de la imagen:\n",
    "\n",
    "mi_recuadro =np.ones((500,500,3), np.uint8) #Lienzo de trabajo\n",
    "cv.line(mi_recuadro, (0,0),(500,500),(255,0,0),5)\n",
    "cv.rectangle(mi_recuadro,(110,200),(410,300),(0,255,0),3)\n",
    "cv.circle(mi_recuadro,(250,250),40,(0,0,225), 8)\n",
    "font = cv.FONT_HERSHEY_PLAIN  #tipografia de letra\n",
    "cv.putText(mi_recuadro,\"Creado por Jahiron Mateo G.\", (50,400),font,1.3,(0,255,255),2,cv.LINE_AA)\n",
    "\n",
    "imagen_r = cv.resize(mi_recuadro, (1000, 1000), interpolation=cv.INTER_LINEAR)\n",
    "\n",
    "cv.imshow(\"Recuadro\", imagen_r)\n",
    "cv.waitKey(0)\n"
   ],
   "id": "7620869717a7a535",
   "outputs": [],
   "execution_count": null
  },
  {
   "metadata": {},
   "cell_type": "code",
   "source": [
    "# Imagen rotada a 45 grados:\n",
    "\n",
    "mi_recuadro =np.ones((500,500,3), np.uint8) #Lienzo de trabajo\n",
    "cv.line(mi_recuadro, (0,0),(500,500),(255,0,0),5)\n",
    "cv.rectangle(mi_recuadro,(110,200),(410,300),(0,255,0),3)\n",
    "cv.circle(mi_recuadro,(250,250),40,(0,0,225), 8)\n",
    "font = cv.FONT_HERSHEY_PLAIN  #tipografia de letra\n",
    "cv.putText(mi_recuadro,\"Creado por Jahiron Mateo G.\", (50,400),font,1.3,(0,255,255),2,cv.LINE_AA)\n",
    "cv.cvtColor(mi_recuadro, cv.COLOR_BGR2GRAY)\n",
    "\n",
    "\n",
    "(altur, ancho) = mi_recuadro.shape[:2] #10\n",
    "centro = (ancho // 2, altur // 2)\n",
    "\n",
    "rotacion = cv.getRotationMatrix2D(centro, 45, 1)\n",
    "rotada = cv.warpAffine(mi_recuadro, rotacion, (600,600))\n",
    "\n",
    "cv.imshow(\"Rotacion_imagen\", rotada)\n",
    "cv.waitKey(0)\n",
    "cv.destroyWindow(\"rotada\")\n",
    "\n"
   ],
   "id": "193f3d0d7e3d8815",
   "outputs": [],
   "execution_count": null
  },
  {
   "metadata": {},
   "cell_type": "code",
   "source": "",
   "id": "b1dc6c0a9db24e43",
   "outputs": [],
   "execution_count": null
  },
  {
   "metadata": {},
   "cell_type": "code",
   "source": "",
   "id": "41731ab47a989a60",
   "outputs": [],
   "execution_count": null
  },
  {
   "metadata": {},
   "cell_type": "code",
   "source": "",
   "id": "b6ff7b49db3d0198",
   "outputs": [],
   "execution_count": null
  },
  {
   "metadata": {},
   "cell_type": "code",
   "source": "",
   "id": "95396053902df77f",
   "outputs": [],
   "execution_count": null
  },
  {
   "metadata": {},
   "cell_type": "code",
   "source": "",
   "id": "c68dc5c8a475b45d",
   "outputs": [],
   "execution_count": null
  }
 ],
 "metadata": {
  "kernelspec": {
   "display_name": "Python 3",
   "language": "python",
   "name": "python3"
  },
  "language_info": {
   "codemirror_mode": {
    "name": "ipython",
    "version": 2
   },
   "file_extension": ".py",
   "mimetype": "text/x-python",
   "name": "python",
   "nbconvert_exporter": "python",
   "pygments_lexer": "ipython2",
   "version": "2.7.6"
  }
 },
 "nbformat": 4,
 "nbformat_minor": 5
}
