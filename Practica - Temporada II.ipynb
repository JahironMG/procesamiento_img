{
 "cells": [
  {
   "metadata": {},
   "cell_type": "markdown",
   "source": [
    "## Practica - Temporada II\n",
    "\n",
    "#### Nombre: Jahiron Mateo Guzman\n",
    "#### Materia: Procesamiento de imagenes\n",
    "\n",
    "En esta tarea, aplicarás conceptos básicos de procesamiento de imágenes utilizando OpenCV en Python. Aprenderás a dibujar figuras geométricas, agregar texto y realizar manipulaciones básicas en imágenes.\n"
   ],
   "id": "dcd87bef0b3f201"
  },
  {
   "metadata": {},
   "cell_type": "markdown",
   "source": [
    "# Parte 1: Creación y Dibujo en una Imagen\n",
    "\n",
    "Instrucciones\n",
    "\n",
    "1. Crear una imagen en blanco\n",
    "\n",
    "• Genera una imagen en blanco con dimensiones de 500x500 píxeles y color de fondo negro.\n",
    "\n",
    "2. Dibujar figuras geométricas\n",
    "\n",
    "• Dibuja una línea de color azul que vaya desde la esquina superior izquierda hasta la esquina inferior derecha.\n",
    "\n",
    "• Agrega un rectángulo de color verde en el centro de la imagen.\n",
    "\n",
    "• Dibuja un círculo rojo dentro del rectángulo.\n",
    "\n",
    "3. Agregar texto a la imagen\n",
    "\n",
    "• Escribe tu nombre en la imagen utilizando una fuente legible y color amarillo.\n",
    "\n",
    "4. Manipulación de imágenes\n",
    "\n",
    "• Convierte la imagen a escala de grises.\n",
    "\n",
    "• Redimensiona la imagen al doble de su tamaño original.\n",
    "\n",
    "• Rota la imagen 45 grados.\n",
    "\n"
   ],
   "id": "400b5f0019702b96"
  },
  {
   "metadata": {
    "ExecuteTime": {
     "end_time": "2025-03-09T23:27:33.775352Z",
     "start_time": "2025-03-09T23:27:33.761443Z"
    }
   },
   "cell_type": "code",
   "source": [
    "\n",
    "#Librerias necesarias:\n",
    "\n",
    "import numpy as np\n",
    "import cv2 as cv\n",
    "import matplotlib.pyplot as plt"
   ],
   "id": "3dbb370db7076aad",
   "outputs": [],
   "execution_count": 13
  },
  {
   "metadata": {
    "ExecuteTime": {
     "end_time": "2025-03-09T23:10:00.007206Z",
     "start_time": "2025-03-09T23:09:59.340501Z"
    }
   },
   "cell_type": "code",
   "source": [
    "# Creacion de imagen en blanco 1.\n",
    "\n",
    "mi_recuadro =np.ones((500,500,3), np.uint8)\n",
    "\n",
    "cv.imshow(\"Recuadro\", mi_recuadro)\n",
    "cv.waitKey(300)\n",
    "cv.destroyWindow()\n"
   ],
   "id": "b248b7c2ab4a4107",
   "outputs": [
    {
     "ename": "TypeError",
     "evalue": "destroyWindow() missing required argument 'winname' (pos 1)",
     "output_type": "error",
     "traceback": [
      "\u001B[31m---------------------------------------------------------------------------\u001B[39m",
      "\u001B[31mTypeError\u001B[39m                                 Traceback (most recent call last)",
      "\u001B[36mCell\u001B[39m\u001B[36m \u001B[39m\u001B[32mIn[2]\u001B[39m\u001B[32m, line 7\u001B[39m\n\u001B[32m      5\u001B[39m cv.imshow(\u001B[33m\"\u001B[39m\u001B[33mRecuadro\u001B[39m\u001B[33m\"\u001B[39m, mi_recuadro)\n\u001B[32m      6\u001B[39m cv.waitKey(\u001B[32m300\u001B[39m)\n\u001B[32m----> \u001B[39m\u001B[32m7\u001B[39m \u001B[43mcv\u001B[49m\u001B[43m.\u001B[49m\u001B[43mdestroyWindow\u001B[49m\u001B[43m(\u001B[49m\u001B[43m)\u001B[49m\n",
      "\u001B[31mTypeError\u001B[39m: destroyWindow() missing required argument 'winname' (pos 1)"
     ]
    }
   ],
   "execution_count": 2
  },
  {
   "metadata": {
    "ExecuteTime": {
     "end_time": "2025-03-09T22:53:22.808160Z",
     "start_time": "2025-03-09T22:53:16.963569Z"
    }
   },
   "cell_type": "code",
   "source": [
    "# Dibujar figuras geometricas 2.\n",
    "\n",
    "mi_recuadro =np.ones((500,500,3), np.uint8)\n",
    "cv.line(mi_recuadro, (0,0),(500,500),(255,0,0),5)\n",
    "cv.rectangle(mi_recuadro,(110,200),(410,300),(0,255,0),3)\n",
    "cv.circle(mi_recuadro,(250,250),40,(0,0,225), 8)\n",
    "\n",
    "cv.imshow(\"Recuadro\", mi_recuadro)\n",
    "cv.waitKey()\n",
    "cv.destroyWindow()"
   ],
   "id": "2f0a1d866a12175a",
   "outputs": [
    {
     "ename": "TypeError",
     "evalue": "destroyWindow() missing required argument 'winname' (pos 1)",
     "output_type": "error",
     "traceback": [
      "\u001B[31m---------------------------------------------------------------------------\u001B[39m",
      "\u001B[31mTypeError\u001B[39m                                 Traceback (most recent call last)",
      "\u001B[36mCell\u001B[39m\u001B[36m \u001B[39m\u001B[32mIn[12]\u001B[39m\u001B[32m, line 10\u001B[39m\n\u001B[32m      8\u001B[39m cv.imshow(\u001B[33m\"\u001B[39m\u001B[33mRecuadro\u001B[39m\u001B[33m\"\u001B[39m, mi_recuadro)\n\u001B[32m      9\u001B[39m cv.waitKey()\n\u001B[32m---> \u001B[39m\u001B[32m10\u001B[39m \u001B[43mcv\u001B[49m\u001B[43m.\u001B[49m\u001B[43mdestroyWindow\u001B[49m\u001B[43m(\u001B[49m\u001B[43m)\u001B[49m\n",
      "\u001B[31mTypeError\u001B[39m: destroyWindow() missing required argument 'winname' (pos 1)"
     ]
    }
   ],
   "execution_count": 12
  },
  {
   "metadata": {
    "ExecuteTime": {
     "end_time": "2025-03-09T23:14:31.086531Z",
     "start_time": "2025-03-09T23:14:26.682506Z"
    }
   },
   "cell_type": "code",
   "source": [
    "# Agregar tex a las imagenenes 3.\n",
    "mi_recuadro =np.ones((500,500,3), np.uint8) #Lienzo de trabajo\n",
    "cv.line(mi_recuadro, (0,0),(500,500),(255,0,0),5)\n",
    "cv.rectangle(mi_recuadro,(110,200),(410,300),(0,255,0),3)\n",
    "cv.circle(mi_recuadro,(250,250),40,(0,0,225), 8)\n",
    "font = cv.FONT_HERSHEY_PLAIN  #tipografia de letra\n",
    "cv.putText(mi_recuadro,\"Creado por Jahiron Mateo G.\", (50,400),font,1.3,(0,255,255),2,cv.LINE_AA)\n",
    "\n",
    "cv.imshow(\"Recuadro\", mi_recuadro)\n",
    "cv.waitKey()\n",
    "cv.destroyWindow()"
   ],
   "id": "c57d66f45e1b3ea1",
   "outputs": [
    {
     "ename": "TypeError",
     "evalue": "destroyWindow() missing required argument 'winname' (pos 1)",
     "output_type": "error",
     "traceback": [
      "\u001B[31m---------------------------------------------------------------------------\u001B[39m",
      "\u001B[31mTypeError\u001B[39m                                 Traceback (most recent call last)",
      "\u001B[36mCell\u001B[39m\u001B[36m \u001B[39m\u001B[32mIn[9]\u001B[39m\u001B[32m, line 17\u001B[39m\n\u001B[32m     15\u001B[39m cv.imshow(\u001B[33m\"\u001B[39m\u001B[33mRecuadro\u001B[39m\u001B[33m\"\u001B[39m, mi_recuadro)\n\u001B[32m     16\u001B[39m cv.waitKey()\n\u001B[32m---> \u001B[39m\u001B[32m17\u001B[39m \u001B[43mcv\u001B[49m\u001B[43m.\u001B[49m\u001B[43mdestroyWindow\u001B[49m\u001B[43m(\u001B[49m\u001B[43m)\u001B[49m\n",
      "\u001B[31mTypeError\u001B[39m: destroyWindow() missing required argument 'winname' (pos 1)"
     ]
    }
   ],
   "execution_count": 9
  },
  {
   "metadata": {
    "ExecuteTime": {
     "end_time": "2025-03-09T23:28:24.402569Z",
     "start_time": "2025-03-09T23:27:57.921414Z"
    }
   },
   "cell_type": "code",
   "source": [
    "# Manipulacion de las imagenes 4.\n",
    "mi_recuadro =np.ones((500,500,3), np.uint8) #Lienzo de trabajo\n",
    "cv.line(mi_recuadro, (0,0),(500,500),(255,0,0),5)\n",
    "cv.rectangle(mi_recuadro,(110,200),(410,300),(0,255,0),3)\n",
    "cv.circle(mi_recuadro,(250,250),40,(0,0,225), 8)\n",
    "font = cv.FONT_HERSHEY_PLAIN  #tipografia de letra\n",
    "cv.putText(mi_recuadro,\"Creado por Jahiron Mateo G.\", (50,400),font,1.3,(0,255,255),2,cv.LINE_AA)\n",
    "\n",
    "gris = cv.cvtColor(mi_recuadro, cv.COLOR_BGR2GRAY)\n",
    "\n",
    "\n",
    "cv.imshow(\"Escala de grises\", gris)\n",
    "cv.waitKey()\n",
    "cv.destroyWindow()\n",
    "\n"
   ],
   "id": "347194e2480f0f14",
   "outputs": [
    {
     "ename": "TypeError",
     "evalue": "destroyWindow() missing required argument 'winname' (pos 1)",
     "output_type": "error",
     "traceback": [
      "\u001B[31m---------------------------------------------------------------------------\u001B[39m",
      "\u001B[31mTypeError\u001B[39m                                 Traceback (most recent call last)",
      "\u001B[36mCell\u001B[39m\u001B[36m \u001B[39m\u001B[32mIn[15]\u001B[39m\u001B[32m, line 14\u001B[39m\n\u001B[32m     12\u001B[39m cv.imshow(\u001B[33m\"\u001B[39m\u001B[33mEscala de grises\u001B[39m\u001B[33m\"\u001B[39m, gris)\n\u001B[32m     13\u001B[39m cv.waitKey()\n\u001B[32m---> \u001B[39m\u001B[32m14\u001B[39m \u001B[43mcv\u001B[49m\u001B[43m.\u001B[49m\u001B[43mdestroyWindow\u001B[49m\u001B[43m(\u001B[49m\u001B[43m)\u001B[49m\n",
      "\u001B[31mTypeError\u001B[39m: destroyWindow() missing required argument 'winname' (pos 1)"
     ]
    }
   ],
   "execution_count": 15
  },
  {
   "metadata": {
    "ExecuteTime": {
     "end_time": "2025-03-09T23:31:15.773653Z",
     "start_time": "2025-03-09T23:31:15.741977Z"
    }
   },
   "cell_type": "code",
   "source": [
    "mi_recuadro =np.ones((500,500,3), np.uint8) #Lienzo de trabajo\n",
    "cv.line(mi_recuadro, (0,0),(500,500),(255,0,0),5)\n",
    "cv.rectangle(mi_recuadro,(110,200),(410,300),(0,255,0),3)\n",
    "cv.circle(mi_recuadro,(250,250),40,(0,0,225), 8)\n",
    "font = cv.FONT_HERSHEY_PLAIN  #tipografia de letra\n",
    "cv.putText(mi_recuadro,\"Creado por Jahiron Mateo G.\", (50,400),font,1.3,(0,255,255),2,cv.LINE_AA)\n",
    "cv.cvtColor(mi_recuadro, cv.COLOR_BGR2GRAY)\n",
    "\n",
    "\n",
    "imagen_rotada = cv.rotate(mi_recuadro, cv.ROTATE)\n",
    "\n",
    "cv.imshow(\"Rotacion_imagen\", imagen_rotada)\n",
    "cv.waitKey()\n",
    "cv.destroyWindow()\n",
    "\n"
   ],
   "id": "193f3d0d7e3d8815",
   "outputs": [
    {
     "ename": "AttributeError",
     "evalue": "module 'cv2' has no attribute 'ROTATE_45_COUNTERCLOCKWISE'",
     "output_type": "error",
     "traceback": [
      "\u001B[31m---------------------------------------------------------------------------\u001B[39m",
      "\u001B[31mAttributeError\u001B[39m                            Traceback (most recent call last)",
      "\u001B[36mCell\u001B[39m\u001B[36m \u001B[39m\u001B[32mIn[16]\u001B[39m\u001B[32m, line 10\u001B[39m\n\u001B[32m      6\u001B[39m cv.putText(mi_recuadro,\u001B[33m\"\u001B[39m\u001B[33mCreado por Jahiron Mateo G.\u001B[39m\u001B[33m\"\u001B[39m, (\u001B[32m50\u001B[39m,\u001B[32m400\u001B[39m),font,\u001B[32m1.3\u001B[39m,(\u001B[32m0\u001B[39m,\u001B[32m255\u001B[39m,\u001B[32m255\u001B[39m),\u001B[32m2\u001B[39m,cv.LINE_AA)\n\u001B[32m      7\u001B[39m cv.cvtColor(mi_recuadro, cv.COLOR_BGR2GRAY)\n\u001B[32m---> \u001B[39m\u001B[32m10\u001B[39m imagen_rotada = cv.rotate(mi_recuadro, \u001B[43mcv\u001B[49m\u001B[43m.\u001B[49m\u001B[43mROTATE_45_COUNTERCLOCKWISE\u001B[49m)\n\u001B[32m     12\u001B[39m cv.imshow(\u001B[33m\"\u001B[39m\u001B[33mRotacion_imagen\u001B[39m\u001B[33m\"\u001B[39m, imagen_rotada)\n\u001B[32m     13\u001B[39m cv.waitKey()\n",
      "\u001B[31mAttributeError\u001B[39m: module 'cv2' has no attribute 'ROTATE_45_COUNTERCLOCKWISE'"
     ]
    }
   ],
   "execution_count": 16
  },
  {
   "metadata": {},
   "cell_type": "code",
   "source": "",
   "id": "b1dc6c0a9db24e43",
   "outputs": [],
   "execution_count": null
  },
  {
   "metadata": {},
   "cell_type": "code",
   "source": "",
   "id": "41731ab47a989a60",
   "outputs": [],
   "execution_count": null
  },
  {
   "metadata": {},
   "cell_type": "code",
   "source": "",
   "id": "b6ff7b49db3d0198",
   "outputs": [],
   "execution_count": null
  },
  {
   "metadata": {},
   "cell_type": "code",
   "source": "",
   "id": "95396053902df77f",
   "outputs": [],
   "execution_count": null
  },
  {
   "metadata": {},
   "cell_type": "code",
   "source": "",
   "id": "c68dc5c8a475b45d",
   "outputs": [],
   "execution_count": null
  }
 ],
 "metadata": {
  "kernelspec": {
   "display_name": "Python 3",
   "language": "python",
   "name": "python3"
  },
  "language_info": {
   "codemirror_mode": {
    "name": "ipython",
    "version": 2
   },
   "file_extension": ".py",
   "mimetype": "text/x-python",
   "name": "python",
   "nbconvert_exporter": "python",
   "pygments_lexer": "ipython2",
   "version": "2.7.6"
  }
 },
 "nbformat": 4,
 "nbformat_minor": 5
}
